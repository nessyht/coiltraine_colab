{
  "nbformat": 4,
  "nbformat_minor": 0,
  "metadata": {
    "colab": {
      "name": "coiltraine",
      "provenance": [],
      "collapsed_sections": []
    },
    "kernelspec": {
      "name": "python3",
      "display_name": "Python 3"
    },
    "accelerator": "GPU"
  },
  "cells": [
    {
      "cell_type": "code",
      "metadata": {
        "id": "anQUhkneTIu4",
        "outputId": "8a6297f2-2840-463c-a675-4c15342eeccc",
        "colab": {
          "base_uri": "https://localhost:8080/",
          "height": 207
        }
      },
      "source": [
        "!pip install pid_controller"
      ],
      "execution_count": null,
      "outputs": [
        {
          "output_type": "stream",
          "text": [
            "Collecting pid_controller\n",
            "  Downloading https://files.pythonhosted.org/packages/3f/f5/da1920ce849f33a4e920e962b42510654b2f855bf94c6a214858630bc0c8/pid_controller-0.2.0.tar.gz\n",
            "Requirement already satisfied: six in /usr/local/lib/python3.6/dist-packages (from pid_controller) (1.15.0)\n",
            "Building wheels for collected packages: pid-controller\n",
            "  Building wheel for pid-controller (setup.py) ... \u001b[?25l\u001b[?25hdone\n",
            "  Created wheel for pid-controller: filename=pid_controller-0.2.0-cp36-none-any.whl size=4890 sha256=8cc5c21be6cb1cc6b05ad347247ced67d62769be41395317b05ef12e502512f9\n",
            "  Stored in directory: /root/.cache/pip/wheels/74/23/53/6c03d6ca606648822ccfbea0b7f5fa600d402d19572d79faa1\n",
            "Successfully built pid-controller\n",
            "Installing collected packages: pid-controller\n",
            "Successfully installed pid-controller-0.2.0\n"
          ],
          "name": "stdout"
        }
      ]
    },
    {
      "cell_type": "code",
      "metadata": {
        "id": "rMLpu5TmSwns"
      },
      "source": [
        "!pip install pygame"
      ],
      "execution_count": null,
      "outputs": []
    },
    {
      "cell_type": "code",
      "metadata": {
        "id": "W5lPgrtqeMJ_"
      },
      "source": [
        "!pip install tensorflow-gpu==1.15"
      ],
      "execution_count": null,
      "outputs": []
    },
    {
      "cell_type": "code",
      "metadata": {
        "id": "x58BKrPPiDty"
      },
      "source": [
        "import os\n",
        "os.environ['COIL_DATASET_PATH'] = \"/data\""
      ],
      "execution_count": null,
      "outputs": []
    },
    {
      "cell_type": "code",
      "metadata": {
        "id": "QqfCBPi4ieaj"
      },
      "source": [
        "!python coiltraine.py --single-process train -e coil_icra --folder sample --gpus 0"
      ],
      "execution_count": null,
      "outputs": []
    }
  ]
}